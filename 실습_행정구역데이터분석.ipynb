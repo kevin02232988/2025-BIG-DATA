{
 "cells": [
  {
   "cell_type": "markdown",
   "metadata": {},
   "source": [
    "# 행정구역별 공공보건의료기관 수 데이터 분석\n"
   ]
  },
  {
   "cell_type": "markdown",
   "metadata": {},
   "source": [
    "# 1. 데이터 준비 및 탐색\n",
    "## 1) 데이터 읽어와 행정구역 정보 분리하기"
   ]
  },
  {
   "cell_type": "code",
   "execution_count": null,
   "metadata": {},
   "outputs": [],
   "source": [
    "import pandas as pd\n",
    "import numpy as np\n",
    "\n",
    "pd.set_option('mode.chained_assignment',  None) # Warning 방지용\n",
    "\n",
    "#보건복지부_공공보건 의료기관 현황.csv 파일 열기\n",
    "# 'utf-8'\n",
    "data = pd.read_csv('./보건복지부_공공보건 의료기관 현황.csv', index_col='연번', encoding='CP949')\n",
    "#index_col='연번', '연번' 열을 인덱스로 사용\n",
    "\n",
    "data.head() #작업내용 확인용 출력"
   ]
  },
  {
   "cell_type": "code",
   "execution_count": null,
   "metadata": {},
   "outputs": [],
   "source": [
    "#data의 주소에서 먼저 값을 띄어쓰기 기준으로 분리하고\n",
    "#시도와 군구에 해당하는 0~1번째 컬럼을 추출 리스트형태로 만듦\n",
    "#apply 함수는 해당 데이터에 대해서 괄호안의 함수를 적용 데이터프레임['컬럼'].apply(함수명)\n",
    "#lamda함수는 def와 동일한 기능\n",
    "#def 함수이름(qustn): return 결과값의 형식이 lambda 입력변수: 리턴값 으로 표현됨 - 각각 주소를 분리하고 0,1 데이터만 가져옴)\n",
    "\n",
    "data['주소'].apply(lambda v: v.split()[:2]).tolist()"
   ]
  },
  {
   "cell_type": "code",
   "execution_count": null,
   "metadata": {},
   "outputs": [],
   "source": [
    "#앞 쉘에서 시와 군구를 분리한 것을 데이터프레임 형식으로 만듦\n",
    "addr = pd.DataFrame(data['주소'].apply(lambda v: v.split()[:2]).tolist(),columns=('시도', '군구'))\n",
    "\n",
    "addr.head()  #작업내용 확인용 출력"
   ]
  },
  {
   "cell_type": "markdown",
   "metadata": {},
   "source": [
    "## 2) 행정구역 이름 수정하기"
   ]
  },
  {
   "cell_type": "markdown",
   "metadata": {},
   "source": [
    " #### 2-1) 시도 이름 확인하기"
   ]
  },
  {
   "cell_type": "code",
   "execution_count": null,
   "metadata": {},
   "outputs": [],
   "source": [
    "addr['시도'].unique()"
   ]
  },
  {
   "cell_type": "markdown",
   "metadata": {},
   "source": [
    "#### 2-2) 잘못된 시도 이름 수정 : 창원시, 경산시, 천안시\n",
    "#### (1) '창원시'를 찾아서 '경상남도 창원시'로 수정"
   ]
  },
  {
   "cell_type": "code",
   "execution_count": null,
   "metadata": {},
   "outputs": [],
   "source": [
    "addr[addr['시도'] == '창원시']"
   ]
  },
  {
   "cell_type": "code",
   "execution_count": null,
   "metadata": {},
   "outputs": [],
   "source": [
    "## 표준 행정구역 이름으로 수정 : 창원시-> 경상남도 창원시\n",
    "addr.iloc[27] = ['경상남도', '창원시']\n",
    "addr.iloc[31] = ['경상남도', '창원시']"
   ]
  },
  {
   "cell_type": "code",
   "execution_count": null,
   "metadata": {},
   "outputs": [],
   "source": [
    "addr.iloc[27]"
   ]
  },
  {
   "cell_type": "code",
   "execution_count": null,
   "metadata": {},
   "outputs": [],
   "source": [
    "addr.iloc[31]"
   ]
  },
  {
   "cell_type": "markdown",
   "metadata": {},
   "source": [
    "#### (2) '경산시'를 찾아서 '경상북도 경산시'로 수정"
   ]
  },
  {
   "cell_type": "code",
   "execution_count": null,
   "metadata": {},
   "outputs": [],
   "source": [
    "addr[addr['시도'] == '경산시']"
   ]
  },
  {
   "cell_type": "code",
   "execution_count": null,
   "metadata": {},
   "outputs": [],
   "source": [
    "addr.iloc[47] = ['경상북도', '경산시']\n",
    "\n",
    "addr.iloc[47]"
   ]
  },
  {
   "cell_type": "markdown",
   "metadata": {},
   "source": [
    "#### (3) '천안시'를 찾아서 '충청남도 천안시'로 수정"
   ]
  },
  {
   "cell_type": "code",
   "execution_count": null,
   "metadata": {},
   "outputs": [],
   "source": [
    "addr[addr['시도'] == '천안시']"
   ]
  },
  {
   "cell_type": "code",
   "execution_count": null,
   "metadata": {},
   "outputs": [],
   "source": [
    "## 표준 행정구역 이름으로 수정 : 천안시-> 충청남도 천안시\n",
    "addr.iloc[209] = ['충청남도', '천안시']\n",
    "addr.iloc[210] = ['충청남도', '천안시']"
   ]
  },
  {
   "cell_type": "code",
   "execution_count": null,
   "metadata": {},
   "outputs": [],
   "source": [
    "addr.iloc[209]"
   ]
  },
  {
   "cell_type": "code",
   "execution_count": null,
   "metadata": {},
   "outputs": [],
   "source": [
    "addr.iloc[210]"
   ]
  },
  {
   "cell_type": "code",
   "execution_count": null,
   "metadata": {},
   "outputs": [],
   "source": [
    "# 작업 결과 확인하기\n",
    "addr['시도'].unique()"
   ]
  },
  {
   "cell_type": "markdown",
   "metadata": {},
   "source": [
    "#### 2-3) 시도 이름을 표준이름으로 수정"
   ]
  },
  {
   "cell_type": "code",
   "execution_count": null,
   "metadata": {},
   "outputs": [],
   "source": [
    "addr"
   ]
  },
  {
   "cell_type": "code",
   "execution_count": null,
   "metadata": {},
   "outputs": [],
   "source": [
    "## 표준 행정구역 이름으로 수정 :  경기 -> 경기도, 경남 -> 경상남도, ...\n",
    "addr_aliases = {'경기':'경기도', '경남':'경상남도', '경북':'경상북도', '충북':'충청북도', '서울시':'서울특별시', '부산특별시':'부산광역시', '대전시':'대전광역시', '충남':'충청남도', '전남':'전라남도', '전북':'전라북도'}"
   ]
  },
  {
   "cell_type": "code",
   "execution_count": null,
   "metadata": {},
   "outputs": [],
   "source": [
    "#get: 딕셔너리 안에 찾으려는 Key 값이 없을 경우 디폴트 값을 대신 가져오게 함 get(x, '디폴트 값')\n",
    "\n",
    "addr['시도']= addr['시도'].apply(lambda v: addr_aliases.get(v, v))"
   ]
  },
  {
   "cell_type": "code",
   "execution_count": null,
   "metadata": {},
   "outputs": [],
   "source": [
    "# 작업 결과 확인하기\n",
    "addr['시도'].unique()"
   ]
  },
  {
   "cell_type": "markdown",
   "metadata": {},
   "source": [
    "#### 2-4) 잘못된 군구 이름 수정하기"
   ]
  },
  {
   "cell_type": "markdown",
   "metadata": {},
   "source": [
    "#### 1) 군구 이름 확인하기 "
   ]
  },
  {
   "cell_type": "code",
   "execution_count": null,
   "metadata": {},
   "outputs": [],
   "source": [
    "addr['군구'].unique()"
   ]
  },
  {
   "cell_type": "markdown",
   "metadata": {},
   "source": [
    "#### 2) '아란13길' 을 '제주특별자치도'  '제주시'로 수정"
   ]
  },
  {
   "cell_type": "code",
   "execution_count": null,
   "metadata": {},
   "outputs": [],
   "source": [
    "addr[addr['군구'] == '아란13길']"
   ]
  },
  {
   "cell_type": "code",
   "execution_count": null,
   "metadata": {},
   "outputs": [],
   "source": [
    "addr.iloc[75] = ['제주특별자치도', '제주시']\n",
    "\n",
    "addr.iloc[75]"
   ]
  },
  {
   "cell_type": "code",
   "execution_count": null,
   "metadata": {},
   "outputs": [],
   "source": [
    "addr['군구'].unique()"
   ]
  },
  {
   "cell_type": "code",
   "execution_count": null,
   "metadata": {},
   "outputs": [],
   "source": [
    "addr"
   ]
  },
  {
   "cell_type": "markdown",
   "metadata": {},
   "source": [
    "## 3) 행정구역별 공공보건의료기관의 수 구하기"
   ]
  },
  {
   "cell_type": "markdown",
   "metadata": {},
   "source": [
    "#### 3-1) '시도' 와 '군구' 컬럼 결합하기"
   ]
  },
  {
   "cell_type": "code",
   "execution_count": null,
   "metadata": {},
   "outputs": [],
   "source": [
    "addr['시도군구'] = addr.apply(lambda r: r['시도'] + ' ' + r['군구'], axis=1) #(열 axis=1)\n",
    "\n",
    "\n",
    "addr.head() #작업 확인용 출력"
   ]
  },
  {
   "cell_type": "code",
   "execution_count": null,
   "metadata": {
    "scrolled": true
   },
   "outputs": [],
   "source": [
    "addr['count'] = 0  # 의료기관수 합계를 저장할 컬럼 만들기\n",
    "\n",
    "addr.head() #작업 확인용 출력"
   ]
  },
  {
   "cell_type": "markdown",
   "metadata": {},
   "source": [
    "#### 3-2) '시도군구' 를 기준으로 그룹을 만들고, 그룹별 의료기관수 합계 구하기"
   ]
  },
  {
   "cell_type": "code",
   "execution_count": null,
   "metadata": {},
   "outputs": [],
   "source": [
    "addr_group =pd.DataFrame(addr.groupby(['시도', '군구', '시도군구']).count()) "
   ]
  },
  {
   "cell_type": "code",
   "execution_count": null,
   "metadata": {},
   "outputs": [],
   "source": [
    "addr_group"
   ]
  },
  {
   "cell_type": "code",
   "execution_count": null,
   "metadata": {
    "scrolled": true
   },
   "outputs": [],
   "source": [
    "#addr_group =pd.DataFrame(addr.groupby(['시도', '군구', '시도군구']).count()) \n",
    "#groupby는 그룹라벨이 인덱스로 되나 그룹라벨을 인덱스를 사용하고자 하지 않을 때\n",
    "addr_group =pd.DataFrame(addr.groupby(['시도', '군구', '시도군구'], as_index=False).count()) \n",
    "\n",
    "addr_group.head(20)  #작업 확인용 출력"
   ]
  },
  {
   "cell_type": "markdown",
   "metadata": {},
   "source": [
    "#### 3-3) 데이터 병합에 사용할 인덱스 설정하기"
   ]
  },
  {
   "cell_type": "code",
   "execution_count": null,
   "metadata": {},
   "outputs": [],
   "source": [
    "addr_group = addr_group.set_index(\"시도군구\")\n",
    "\n",
    "addr_group.head()   #작업 확인용 출력"
   ]
  },
  {
   "cell_type": "markdown",
   "metadata": {},
   "source": [
    "## 4) 행정구역 인구수 컬럼 추가하기"
   ]
  },
  {
   "cell_type": "markdown",
   "metadata": {},
   "source": [
    "####  4-1) 행정구역 이름 데이터 불러오기 : 행정구역_시군구_별__성별_인구수_2.xlsx"
   ]
  },
  {
   "cell_type": "code",
   "execution_count": null,
   "metadata": {
    "scrolled": true
   },
   "outputs": [],
   "source": [
    "population = pd.read_excel('./행정구역_시군구_별__성별_인구수_2.xlsx')\n",
    "\n",
    "population.head()    #작업 확인용 출력"
   ]
  },
  {
   "cell_type": "code",
   "execution_count": null,
   "metadata": {},
   "outputs": [],
   "source": [
    "population = population.rename(columns = {'행정구역(시군구)별(1)': '시도', '행정구역(시군구)별(2)': '군구'}) #컬럼이름 변경\n",
    "\n",
    "population.head()  #작업 확인용 출력"
   ]
  },
  {
   "cell_type": "markdown",
   "metadata": {},
   "source": [
    "####   4-2) 병합에 사용할 공통 컬럼 '시도군구' 추가하기"
   ]
  },
  {
   "cell_type": "code",
   "execution_count": null,
   "metadata": {},
   "outputs": [],
   "source": [
    "# '군구' 컬럼에서 공백 제거하기\n",
    "for element in range(0,len(population)):\n",
    "      population['군구'][element] = population['군구'][element].strip()\n",
    "\n",
    "population.head()"
   ]
  },
  {
   "cell_type": "code",
   "execution_count": null,
   "metadata": {},
   "outputs": [],
   "source": [
    "# '시도'와 '군구'를 연결하여 '시도군구' 컬럼 추가\n",
    "population['시도군구']= population.apply(lambda r: r['시도'] + ' ' + r['군구'], axis=1)\n",
    "\n",
    "population.head()  #작업 확인용 출력"
   ]
  },
  {
   "cell_type": "markdown",
   "metadata": {},
   "source": [
    "#### 4-3)필요없는  '소계' 행 삭제"
   ]
  },
  {
   "cell_type": "code",
   "execution_count": null,
   "metadata": {},
   "outputs": [],
   "source": [
    "population = population[population.군구 != '소계']\n",
    "\n",
    "population.head()  #작업 확인용 출력"
   ]
  },
  {
   "cell_type": "markdown",
   "metadata": {},
   "source": [
    "####   4-4) 병합의 기준이 될 인덱스를 '시도군구'로 설정"
   ]
  },
  {
   "cell_type": "code",
   "execution_count": null,
   "metadata": {},
   "outputs": [],
   "source": [
    "population = population.set_index(\"시도군구\")\n",
    "\n",
    "population.head()  #작업 확인용 출력"
   ]
  },
  {
   "cell_type": "markdown",
   "metadata": {},
   "source": [
    "## 5) 데이터 프레임 병합 후 데이터 정리\n",
    "#### 5-1) '의료기관' 데이터프레임과 '시도군구별 인구수' 데이터프레임 병합하기 "
   ]
  },
  {
   "cell_type": "code",
   "execution_count": null,
   "metadata": {
    "scrolled": true
   },
   "outputs": [],
   "source": [
    "#두 데이터 양쪽 모두 인덱스를 기준으로 통합\n",
    "addr_population_merge = pd.merge(addr_group,population,  how='inner',  left_index=True, right_index=True)\n",
    "\n",
    "addr_population_merge.head()   #작업 확인용 출력"
   ]
  },
  {
   "cell_type": "markdown",
   "metadata": {},
   "source": [
    "#### 5-2) 필요한 컬럼만 추출하기"
   ]
  },
  {
   "cell_type": "code",
   "execution_count": null,
   "metadata": {},
   "outputs": [],
   "source": [
    "local_MC_Population = addr_population_merge[['시도_x', '군구_x',  'count', '총인구수 (명)']]\n",
    "\n",
    "local_MC_Population.head()   #작업 확인용 출력  "
   ]
  },
  {
   "cell_type": "code",
   "execution_count": null,
   "metadata": {},
   "outputs": [],
   "source": [
    " #컬럼이름 변경\n",
    "local_MC_Population = local_MC_Population.rename(columns = {'시도_x': '시도', '군구_x': '군구','총인구수 (명)': '인구수' })\n",
    "\n",
    "local_MC_Population.head()  #작업 확인용 출력"
   ]
  },
  {
   "cell_type": "markdown",
   "metadata": {},
   "source": [
    "#### 5-3) 시도군구의 인구대비 의료기관수 비율 구하기"
   ]
  },
  {
   "cell_type": "code",
   "execution_count": null,
   "metadata": {},
   "outputs": [],
   "source": [
    "MC_count = local_MC_Population['count']\n",
    "local_MC_Population['MC_ratio'] = MC_count.div(local_MC_Population['인구수'], axis=0)*100000\n",
    "\n",
    "local_MC_Population.head()   #작업 확인용 출력"
   ]
  },
  {
   "cell_type": "markdown",
   "metadata": {},
   "source": [
    "# 2. 분석 모델 구축 및 시각화"
   ]
  },
  {
   "cell_type": "markdown",
   "metadata": {},
   "source": [
    "##  2-1) 바 차트 그리기"
   ]
  },
  {
   "cell_type": "code",
   "execution_count": null,
   "metadata": {},
   "outputs": [],
   "source": [
    "from matplotlib import pyplot as plt\n",
    "from matplotlib import rcParams, style\n",
    "style.use('ggplot')\n",
    "\n",
    "from matplotlib import font_manager, rc\n",
    "font_name = font_manager.FontProperties(fname=\"c:/Windows/Fonts/malgun.ttf\").get_name()\n",
    "rc('font', family=font_name)\n",
    "\n",
    "\n",
    "'''\n",
    "#코랩일 경우 위의 코드는 주석처리 아래의 코드로 실행\n",
    "#적용이 안되면 상단 런타임 메뉴에서 다시시작 및 모두실행으로 실행\n",
    "#그래도 안되면 런타임 메뉴에서 런타임 다시시작 -> 다시시작 및 모두실행\n",
    "\n",
    "#한글 폰트 깨짐 방지 코드\n",
    "from matplotlib import pyplot as plt\n",
    "from matplotlib import rcParams, style\n",
    "\n",
    "import matplotlib as mpl \n",
    "import matplotlib.pyplot as plt \n",
    "import matplotlib.font_manager as fm  \n",
    "\n",
    "!apt-get update -qq\n",
    "!apt-get install fonts-nanum* -qq\n",
    "\n",
    "path = '/usr/share/fonts/truetype/nanum/NanumBarunGothic.ttf' \n",
    "font_name = fm.FontProperties(fname=path, size=10).get_name()\n",
    "print(font_name)\n",
    "plt.rc('font', family=font_name)\n",
    "\n",
    "fm._rebuild()\n",
    "mpl.rcParams['axes.unicode_minus'] = False\n",
    "'''"
   ]
  },
  {
   "cell_type": "markdown",
   "metadata": {},
   "source": [
    "####  1) 행정구역별 공공보건의료기관수에 대한 바 차트 "
   ]
  },
  {
   "cell_type": "code",
   "execution_count": null,
   "metadata": {},
   "outputs": [],
   "source": [
    "%matplotlib inline\n",
    "\n",
    "MC_ratio = local_MC_Population[['count']]\n",
    "MC_ratio = MC_ratio.sort_values('count', ascending = False) #ascending 오름차순\n",
    "plt.rcParams[\"figure.figsize\"] = (25,5)\n",
    "MC_ratio.plot(kind='bar', rot=90) \n",
    "plt.show()"
   ]
  },
  {
   "cell_type": "markdown",
   "metadata": {},
   "source": [
    "####   2) 행정구역별 인구수 대비 공공보건의료기관 비율에 대한 바 차트 "
   ]
  },
  {
   "cell_type": "code",
   "execution_count": null,
   "metadata": {
    "scrolled": true
   },
   "outputs": [],
   "source": [
    "MC_ratio = local_MC_Population[['MC_ratio']]\n",
    "MC_ratio = MC_ratio.sort_values('MC_ratio', ascending = False)\n",
    "plt.rcParams[\"figure.figsize\"] = (25,5)\n",
    "MC_ratio.plot(kind='bar', rot=90)\n",
    "plt.show()"
   ]
  },
  {
   "cell_type": "markdown",
   "metadata": {},
   "source": [
    "## 2-2) 블록맵 시각화"
   ]
  },
  {
   "cell_type": "markdown",
   "metadata": {},
   "source": [
    "####  1) 블록맵 데이터 파일 열기"
   ]
  },
  {
   "cell_type": "code",
   "execution_count": null,
   "metadata": {},
   "outputs": [],
   "source": [
    "data_draw_korea = pd.read_csv('./data_draw_korea.csv', index_col=0, encoding='UTF-8', engine='python')\n",
    "\n",
    "data_draw_korea.head()   #작업 확인용 출력"
   ]
  },
  {
   "cell_type": "markdown",
   "metadata": {},
   "source": [
    "####   2) 블록맵 데이터 파일에 '시도군구' 컬럼 만들기"
   ]
  },
  {
   "cell_type": "code",
   "execution_count": null,
   "metadata": {},
   "outputs": [],
   "source": [
    "data_draw_korea['시도군구']= data_draw_korea.apply(lambda r: r['광역시도'] + ' ' + r['행정구역'], axis=1)\n",
    "\n",
    "data_draw_korea.head()  #작업 확인용 출력"
   ]
  },
  {
   "cell_type": "markdown",
   "metadata": {},
   "source": [
    "####   3) 블록맵 데이터에서 병합에 사용할 '시도군구' 컬럼을 인덱스로 설정하기"
   ]
  },
  {
   "cell_type": "code",
   "execution_count": null,
   "metadata": {},
   "outputs": [],
   "source": [
    "data_draw_korea = data_draw_korea.set_index(\"시도군구\")\n",
    "\n",
    "data_draw_korea.head()  #작업 확인용 출력"
   ]
  },
  {
   "cell_type": "markdown",
   "metadata": {},
   "source": [
    "####  4) 블록맵 데이터프레임과 local_MC_Population을 병합하기"
   ]
  },
  {
   "cell_type": "code",
   "execution_count": null,
   "metadata": {},
   "outputs": [],
   "source": [
    "data_draw_korea_MC_Population_all = pd.merge(data_draw_korea,local_MC_Population,  how='outer',  left_index=True, right_index=True)\n",
    "\n",
    "data_draw_korea_MC_Population_all.head()"
   ]
  },
  {
   "cell_type": "markdown",
   "metadata": {},
   "source": [
    "####   (5) 한국지도의 블록맵 경계선 좌표를 리스트로 생성 "
   ]
  },
  {
   "cell_type": "code",
   "execution_count": null,
   "metadata": {},
   "outputs": [],
   "source": [
    "BORDER_LINES = [\n",
    "    [(3, 2), (5, 2), (5, 3), (9, 3), (9, 1)], # 인천\n",
    "    [(2, 5), (3, 5), (3, 4), (8, 4), (8, 7), (7, 7), (7, 9), (4, 9), (4, 7), (1, 7)], # 서울\n",
    "    [(1, 6), (1, 9), (3, 9), (3, 10), (8, 10), (8, 9),\n",
    "     (9, 9), (9, 8), (10, 8), (10, 5), (9, 5), (9, 3)], # 경기도\n",
    "    [(9, 12), (9, 10), (8, 10)], # 강원도\n",
    "    [(10, 5), (11, 5), (11, 4), (12, 4), (12, 5), (13, 5),\n",
    "     (13, 4), (14, 4), (14, 2)], # 충청남도\n",
    "    [(11, 5), (12, 5), (12, 6), (15, 6), (15, 7), (13, 7),\n",
    "     (13, 8), (11, 8), (11, 9), (10, 9), (10, 8)], # 충청북도\n",
    "    [(14, 4), (15, 4), (15, 6)], # 대전시\n",
    "    [(14, 7), (14, 9), (13, 9), (13, 11), (13, 13)], # 경상북도\n",
    "    [(14, 8), (16, 8), (16, 10), (15, 10),\n",
    "     (15, 11), (14, 11), (14, 12), (13, 12)], # 대구시\n",
    "    [(15, 11), (16, 11), (16, 13)], # 울산시\n",
    "    [(17, 1), (17, 3), (18, 3), (18, 6), (15, 6)], # 전라북도\n",
    "    [(19, 2), (19, 4), (21, 4), (21, 3), (22, 3), (22, 2), (19, 2)], # 광주시\n",
    "    [(18, 5), (20, 5), (20, 6)], # 전라남도\n",
    "    [(16, 9), (18, 9), (18, 8), (19, 8), (19, 9), (20, 9), (20, 10)], # 부산시\n",
    "]"
   ]
  },
  {
   "cell_type": "markdown",
   "metadata": {},
   "source": [
    "####   (6) 블록맵에서 블록에 해당 데이터를 매핑하여 색을 표시하는 함수"
   ]
  },
  {
   "cell_type": "code",
   "execution_count": null,
   "metadata": {},
   "outputs": [],
   "source": [
    "def draw_blockMap(blockedMap, targetData, title, color ):\n",
    "    whitelabelmin = (max(blockedMap[targetData]) - min(blockedMap[targetData])) * 0.25 + min(blockedMap[targetData])\n",
    "\n",
    "    datalabel = targetData\n",
    "\n",
    "    vmin = min(blockedMap[targetData])\n",
    "    vmax = max(blockedMap[targetData])\n",
    "\n",
    "    mapdata = blockedMap.pivot(index='y', columns='x', values=targetData)\n",
    "    masked_mapdata = np.ma.masked_where(np.isnan(mapdata), mapdata)\n",
    "    \n",
    "    plt.figure(figsize=(8, 13))\n",
    "    plt.title(title)\n",
    "    plt.pcolor(masked_mapdata, vmin=vmin, vmax=vmax, cmap=color, edgecolor='#aaaaaa', linewidth=0.5)\n",
    "\n",
    "    # 지역 이름 표시\n",
    "    for idx, row in blockedMap.iterrows():\n",
    "        annocolor = 'white' if row[targetData] > whitelabelmin else 'black'\n",
    "    \n",
    "        # 광역시는 구 이름이 겹치는 경우가 많아서 시단위 이름도 같이 표시한다. (중구, 서구)\n",
    "        if row['광역시도'].endswith('시') and not row['광역시도'].startswith('세종'):\n",
    "            dispname = '{}\\n{}'.format(row['광역시도'][:2], row['행정구역'][:-1])\n",
    "            if len(row['행정구역']) <= 2:\n",
    "                dispname += row['행정구역'][-1]\n",
    "        else:\n",
    "            dispname = row['행정구역'][:-1]\n",
    "\n",
    "        # 서대문구, 서귀포시 같이 이름이 3자 이상인 경우에 작은 글자로 표시한다.\n",
    "        if len(dispname.splitlines()[-1]) >= 3:\n",
    "            fontsize, linespacing = 9.5, 1.5\n",
    "        else:\n",
    "            fontsize, linespacing = 11, 1.2\n",
    "\n",
    "        plt.annotate(dispname, (row['x']+0.5, row['y']+0.5), weight='bold',\n",
    "                     fontsize=fontsize, ha='center', va='center', color=annocolor,\n",
    "                     linespacing=linespacing)\n",
    "    \n",
    "    # 시도 경계 그린다.\n",
    "    for path in BORDER_LINES:\n",
    "        ys, xs = zip(*path)\n",
    "        plt.plot(xs, ys, c='black', lw=4)\n",
    "\n",
    "    plt.gca().invert_yaxis()\n",
    "    plt.axis('off')\n",
    "    \n",
    "    cb = plt.colorbar(shrink=.1, aspect=10)\n",
    "    cb.set_label(datalabel)\n",
    "\n",
    "    plt.tight_layout()                       \n",
    "    \n",
    "    plt.show()      "
   ]
  },
  {
   "cell_type": "markdown",
   "metadata": {},
   "source": [
    "####   (7) 함수를 호출하여 블록맵 생성하기"
   ]
  },
  {
   "cell_type": "markdown",
   "metadata": {},
   "source": [
    "#### 1) 행정구역별 인구에 대한 의료기관 수에 대한 블록맵"
   ]
  },
  {
   "cell_type": "code",
   "execution_count": null,
   "metadata": {},
   "outputs": [],
   "source": [
    "draw_blockMap(data_draw_korea_MC_Population_all, 'count', '행정구역별 공공보건의료기관 수', 'Blues')"
   ]
  },
  {
   "cell_type": "markdown",
   "metadata": {},
   "source": [
    "#### 2) 행정구역별 인구에 대한 의료기관 비율에 대한 블록맵"
   ]
  },
  {
   "cell_type": "code",
   "execution_count": null,
   "metadata": {},
   "outputs": [],
   "source": [
    "draw_blockMap(data_draw_korea_MC_Population_all, 'MC_ratio', '행정구역별 인구수 대비 공공보건의료기관 비율', 'Reds' )"
   ]
  },
  {
   "cell_type": "code",
   "execution_count": null,
   "metadata": {},
   "outputs": [],
   "source": []
  }
 ],
 "metadata": {
  "kernelspec": {
   "display_name": "Python 3",
   "language": "python",
   "name": "python3"
  },
  "language_info": {
   "codemirror_mode": {
    "name": "ipython",
    "version": 3
   },
   "file_extension": ".py",
   "mimetype": "text/x-python",
   "name": "python",
   "nbconvert_exporter": "python",
   "pygments_lexer": "ipython3",
   "version": "3.8.8"
  }
 },
 "nbformat": 4,
 "nbformat_minor": 2
}
