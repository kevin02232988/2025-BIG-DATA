{
 "cells": [
  {
   "cell_type": "markdown",
   "metadata": {},
   "source": [
    "# 서울시 자치구별 CCTV 현황 데이터 분석"
   ]
  },
  {
   "cell_type": "markdown",
   "metadata": {},
   "source": [
    "# 1. 서울시 자치구별 CCTV 현황 데이터 읽어오기"
   ]
  },
  {
   "cell_type": "code",
   "execution_count": null,
   "metadata": {},
   "outputs": [],
   "source": [
    "import pandas as pd\n",
    "\n",
    "# Colab에서는 파일의경로명을 해당 파일 옆에 점 세개 버튼의 경로 복사로 복사해 사용\n",
    "#예) CCTV_Seoul = pd.read_csv('/content/drive/MyDrive/Colab Notebooks/AI_2주차_실습파일_오프라인/서울시 CCTV 설치운영 현황(자치구)-연도별.csv',encoding='cp949')\n",
    "\n",
    "CCTV_Seoul = \n",
    "CCTV_Seoul"
   ]
  },
  {
   "cell_type": "markdown",
   "metadata": {},
   "source": [
    "# 2. CCTV 현황 데이터 살펴보기"
   ]
  },
  {
   "cell_type": "code",
   "execution_count": null,
   "metadata": {},
   "outputs": [],
   "source": [
    "#데이터의 행x열 개수,컬럼,인덱스 정보 보기\n",
    "\n"
   ]
  },
  {
   "cell_type": "code",
   "execution_count": null,
   "metadata": {},
   "outputs": [],
   "source": [
    "#데이터의 위에서 5행 보기\n"
   ]
  },
  {
   "cell_type": "code",
   "execution_count": null,
   "metadata": {},
   "outputs": [],
   "source": [
    "#데이터의 아래에서 5행 보기\n"
   ]
  },
  {
   "cell_type": "code",
   "execution_count": null,
   "metadata": {},
   "outputs": [],
   "source": [
    "#데이터의 통계정보 보기\n"
   ]
  },
  {
   "cell_type": "code",
   "execution_count": null,
   "metadata": {},
   "outputs": [],
   "source": [
    "#데이터의 타입, 아이템 수, 누락데이터 등 보기\n"
   ]
  },
  {
   "cell_type": "markdown",
   "metadata": {},
   "source": [
    "# 3. CCTV 현황 데이터 정리하기"
   ]
  },
  {
   "cell_type": "code",
   "execution_count": null,
   "metadata": {},
   "outputs": [],
   "source": [
    "#CCTV_Seoul 데이터의 열이름을 '구분' -> '구별'로 변경 (columns={'구분' : '구별'})\n",
    "\n",
    "\n",
    "CCTV_Seoul.head()"
   ]
  },
  {
   "cell_type": "code",
   "execution_count": null,
   "metadata": {},
   "outputs": [],
   "source": [
    "#다른 데이터들과 년도를 동일하게 맞추기 위해 '2020년' 열 삭제 (columns='2020년',axis=1)\n",
    "\n",
    "\n",
    "CCTV_Seoul.head()"
   ]
  },
  {
   "cell_type": "code",
   "execution_count": null,
   "metadata": {},
   "outputs": [],
   "source": [
    "#'2017년 이전' 열 추가\n",
    "CCTV_Seoul['2017년 이전']= CCTV_Seoul['총계'] - (CCTV_Seoul['2017년'] + CCTV_Seoul['2018년'] + CCTV_Seoul['2019년'])\n",
    "CCTV_Seoul.head()"
   ]
  },
  {
   "cell_type": "code",
   "execution_count": null,
   "metadata": {},
   "outputs": [],
   "source": [
    "#불필요한 년도의 열('2011년 이전', '2011년', '2012년', '2013년', '2014년','2015년','2016년') 삭제\n",
    "CCTV_Seoul.drop(columns=['2011년 이전', '2011년', '2012년', '2013년', '2014년','2015년','2016년'], axis=1, inplace=True)\n",
    "CCTV_Seoul.head()"
   ]
  },
  {
   "cell_type": "code",
   "execution_count": null,
   "metadata": {},
   "outputs": [],
   "source": [
    "#불필요한 행(index=0, axis=0) 삭제\n",
    "\n",
    "\n",
    "CCTV_Seoul.head()"
   ]
  },
  {
   "cell_type": "code",
   "execution_count": null,
   "metadata": {},
   "outputs": [],
   "source": [
    "#drop = True 기존의 인덱스는 버리고 새로 설정\n",
    "CCTV_Seoul.reset_index(drop=True, inplace=True) \n",
    "CCTV_Seoul.head()"
   ]
  },
  {
   "cell_type": "markdown",
   "metadata": {},
   "source": [
    "# 4. CCTV 현황데이터 자세히 보기"
   ]
  },
  {
   "cell_type": "markdown",
   "metadata": {},
   "source": [
    "### 4-1. CCTV의 전체 개수가 가장 적은/가장 많은 상위 5개 구는 어디일까?"
   ]
  },
  {
   "cell_type": "code",
   "execution_count": null,
   "metadata": {},
   "outputs": [],
   "source": [
    "#데이터 '총계'열을 기준으로 오름차순 정렬하기 (by='총계', ascending = True)\n",
    "\n"
   ]
  },
  {
   "cell_type": "code",
   "execution_count": null,
   "metadata": {},
   "outputs": [],
   "source": [
    "#데이터 '총계'열을 기준으로 내림차순 정렬하기 (by='총계', ascending = False)\n",
    "\n"
   ]
  },
  {
   "cell_type": "markdown",
   "metadata": {},
   "source": [
    "### 4-2. 최근 3년간 CCTV 증가율을 계산하여 '최근증가율' 을 알아보자."
   ]
  },
  {
   "cell_type": "code",
   "execution_count": null,
   "metadata": {},
   "outputs": [],
   "source": [
    "#최근 3년간 CCTV 수를 더하고 2017년 이전 CCTV수로 나눠서 최근 3년간 CCTV 증가율 계산\n",
    "\n",
    "CCTV_Seoul['최근증가율']=(CCTV_Seoul['2019년'] + CCTV_Seoul['2018년'] + CCTV_Seoul['2017년']) / CCTV_Seoul['2017년 이전']  * 100\n",
    "CCTV_Seoul.head()"
   ]
  },
  {
   "cell_type": "markdown",
   "metadata": {},
   "source": [
    "### 4-3. '최근증가율' 이 가장 높은 상위 5개구는 어디일까?"
   ]
  },
  {
   "cell_type": "code",
   "execution_count": null,
   "metadata": {},
   "outputs": [],
   "source": [
    "#'최근증가율'로 내림차순 정렬\n",
    "CCTV_Seoul.sort_values(by='최근증가율', ascending=False).head()"
   ]
  },
  {
   "cell_type": "markdown",
   "metadata": {},
   "source": [
    "# 5. 서울시 인구현황 데이터 읽어오기"
   ]
  },
  {
   "cell_type": "code",
   "execution_count": null,
   "metadata": {},
   "outputs": [],
   "source": [
    "# Colab에서는 파일의 경로명을 해당 파일 옆에 점 세개 버튼의 경로 복사로 복사해 사용\n",
    "# 예) pop_Seoul = pd.read_excel('/content/drive/MyDrive/Colab Notebooks/AI_2주차_실습파일_오프라인/행정구역_시군구_별__성별_인구수_서울.xlsx')\n",
    "\n",
    "pop_Seoul = \n",
    "pop_Seoul"
   ]
  },
  {
   "cell_type": "code",
   "execution_count": null,
   "metadata": {},
   "outputs": [],
   "source": [
    "# Colab에서는 파일의 경로명을 해당 파일 옆에 점 세개 버튼의 경로 복사로 복사해 사용\n",
    "# 예) pop_Seoul = pd.read_excel('/content/drive/MyDrive/Colab Notebooks/AI_2주차_실습파일_오프라인/행정구역_시군구_별__성별_인구수_서울.xlsx')\n",
    "\n",
    "#header= 1 옵션은 액셀에서 두번째 줄부터 읽어옴 (숫자는 0부터 시작)\n",
    "pop_Seoul = \n",
    "pop_Seoul.head()"
   ]
  },
  {
   "cell_type": "code",
   "execution_count": null,
   "metadata": {},
   "outputs": [],
   "source": [
    "#데이터의 행,열 개수,컬럼,인덱스 정보 보기\n",
    "print(pop_Seoul.shape)\n",
    "print(pop_Seoul.index)\n",
    "print(pop_Seoul.columns)"
   ]
  },
  {
   "cell_type": "markdown",
   "metadata": {},
   "source": [
    "# 6. 인구 현황 데이터 정리하기"
   ]
  },
  {
   "cell_type": "code",
   "execution_count": null,
   "metadata": {},
   "outputs": [],
   "source": [
    "#컬럼 이름 변경\n",
    "pop_Seoul.rename(columns={'행정구역(시군구)별':'구별',\n",
    "                          '총인구수 (명)':'인구수',\n",
    "                          '남자인구수 (명)':'남성',\n",
    "                          '여자인구수 (명)': '여성'}, inplace=True)\n",
    "pop_Seoul.head()"
   ]
  },
  {
   "cell_type": "code",
   "execution_count": null,
   "metadata": {},
   "outputs": [],
   "source": [
    "#불필요한 행 삭제, 0번 인덱스 줄 삭제\n",
    "pop_Seoul.drop(index=0, axis=0, inplace=True)\n",
    "pop_Seoul.head()"
   ]
  },
  {
   "cell_type": "code",
   "execution_count": null,
   "metadata": {},
   "outputs": [],
   "source": [
    "#인덱스 새로 설정\n",
    "pop_Seoul.reset_index(drop=True, inplace=True)\n",
    "pop_Seoul.head()"
   ]
  },
  {
   "cell_type": "markdown",
   "metadata": {},
   "source": [
    "# 7. 인구현황 데이터 자세히 보기"
   ]
  },
  {
   "cell_type": "markdown",
   "metadata": {},
   "source": [
    "### 7-1. 인구수가 가장 높은 상위 5개 구는 어디일까?"
   ]
  },
  {
   "cell_type": "code",
   "execution_count": null,
   "metadata": {},
   "outputs": [],
   "source": [
    "#'인구수'로 내림차순 정렬\n",
    "\n",
    "pop_Seoul.sort_values(by='인구수',ascending=False).head()"
   ]
  },
  {
   "cell_type": "markdown",
   "metadata": {},
   "source": [
    "###  7-2. 여성인구와 남성인구 비율을 알아보자"
   ]
  },
  {
   "cell_type": "code",
   "execution_count": null,
   "metadata": {},
   "outputs": [],
   "source": [
    "pop_Seoul['여성비율'] = pop_Seoul['여성'] / pop_Seoul['인구수'] * 100\n",
    "pop_Seoul['남성비율'] = pop_Seoul['남성'] / pop_Seoul['인구수'] * 100\n",
    "pop_Seoul.head()"
   ]
  },
  {
   "cell_type": "markdown",
   "metadata": {},
   "source": [
    "### 7-3. 여성비율이 가장 높은 상위 5개 구는 어디일까?"
   ]
  },
  {
   "cell_type": "code",
   "execution_count": null,
   "metadata": {},
   "outputs": [],
   "source": [
    "#'여성비율'로 내림차순 정렬\n"
   ]
  },
  {
   "cell_type": "markdown",
   "metadata": {},
   "source": [
    "### 7-4. 남성비율이 가장 높은 상위 5개 구는 어디일까?"
   ]
  },
  {
   "cell_type": "code",
   "execution_count": null,
   "metadata": {},
   "outputs": [],
   "source": [
    "#'남성비율'로 내림차순 정렬\n"
   ]
  },
  {
   "cell_type": "markdown",
   "metadata": {},
   "source": [
    "# 8. 데이터 합치기"
   ]
  },
  {
   "cell_type": "markdown",
   "metadata": {},
   "source": [
    "### 8-1. 인구 대비 CCTV 현황을 확인해 보자"
   ]
  },
  {
   "cell_type": "code",
   "execution_count": null,
   "metadata": {},
   "outputs": [],
   "source": [
    "# 두 데이터 합치기 (병합기준 열을 '구별'로 병합, on='구별')\n",
    "\n",
    "\n",
    "data_result.head()"
   ]
  },
  {
   "cell_type": "markdown",
   "metadata": {},
   "source": [
    "### 8-2. 인덱스 이름을 구이름으로 바꿔보자"
   ]
  },
  {
   "cell_type": "code",
   "execution_count": null,
   "metadata": {},
   "outputs": [],
   "source": [
    "data_result.set_index('구별', inplace=True)\n",
    "data_result.head()"
   ]
  },
  {
   "cell_type": "code",
   "execution_count": null,
   "metadata": {},
   "outputs": [],
   "source": [
    "#합친 데이터 엑셀파일로 저장하기\n",
    "# Colab에서는 파일의 경로명을 해당 파일 옆에 점 세개 버튼의 경로 복사로 복사해 사용\n",
    "# 예) excel_writer = pd.ExcelWriter('/content/drive/MyDrive/Colab Notebooks/AI_2주차_실습파일_오프라인/CCTV_pop.xlsx')\n",
    "\n",
    "excel_writer = pd.ExcelWriter('./CCTV_pop.xlsx')\n",
    "data_result.to_excel(excel_writer, index=True)\n",
    "excel_writer.save()"
   ]
  },
  {
   "cell_type": "markdown",
   "metadata": {},
   "source": [
    "# 9. 서울시 자치구별 CCTV 현황 분석하기"
   ]
  },
  {
   "cell_type": "markdown",
   "metadata": {},
   "source": [
    "### 9-1. CCTV 수에 가장 영향을 미치는 항목은 무엇일까?"
   ]
  },
  {
   "cell_type": "code",
   "execution_count": null,
   "metadata": {},
   "outputs": [],
   "source": [
    "import numpy as np\n",
    "\n",
    "# 두 항목간의 상관계수 대각선을 제외하고 상관계수 절대값이 1에 가까울 수록 높은 상관 관계\n",
    "\n",
    "np.corrcoef(data_result['여성비율'],data_result['총계'])"
   ]
  },
  {
   "cell_type": "code",
   "execution_count": null,
   "metadata": {},
   "outputs": [],
   "source": [
    "np.corrcoef(data_result['남성비율'],data_result['총계'])"
   ]
  },
  {
   "cell_type": "code",
   "execution_count": null,
   "metadata": {},
   "outputs": [],
   "source": [
    "np.corrcoef(data_result['인구수'],data_result['총계'])"
   ]
  },
  {
   "cell_type": "markdown",
   "metadata": {},
   "source": [
    "### 9-2. CCTV 수에 가장 영향을 미치는 항목의 수가 가장 큰 구는 CCTV 수도 가장 큰가?"
   ]
  },
  {
   "cell_type": "code",
   "execution_count": null,
   "metadata": {},
   "outputs": [],
   "source": [
    "#'인구수'로 내림차순 정렬\n"
   ]
  },
  {
   "cell_type": "code",
   "execution_count": null,
   "metadata": {},
   "outputs": [],
   "source": [
    "#'CCTV수'로 내림차순 정렬\n"
   ]
  },
  {
   "cell_type": "markdown",
   "metadata": {},
   "source": [
    "## 10. 서울시 자치구별 CCTV 현황 시각화"
   ]
  },
  {
   "cell_type": "code",
   "execution_count": null,
   "metadata": {},
   "outputs": [],
   "source": [
    "#한글폰트 깨짐 방지 코드\n",
    "import matplotlib.pyplot as plt\n",
    "\n",
    "import platform\n",
    "path = \"c:/windows/Fonts/malgun.ttf\"\n",
    "from matplotlib import font_manager, rc\n",
    "\n",
    "if platform.system() == 'Darwin':\n",
    "    rc('font', family='AppleGothic')\n",
    "elif platform.system() == 'Windows':\n",
    "    font_name = font_manager.FontProperties(fname=path).get_name()\n",
    "    rc('font', family=font_name)\n",
    "else :\n",
    "    print('Unknown system... sorry~~~')\n",
    "    \n",
    "'''\n",
    "#코랩일 경우 위의 코드는 주석처리 아래의 코드로 실행\n",
    "적용이 안되면 상단 런타임 메뉴에서 다시시작 및 모두실행으로 실행\n",
    "그래도 안되면 런타임 메뉴에서 런타임 다시시작 -> 다시시작 및 모두실행\n",
    "\n",
    "#한글 폰트 깨짐 방지 코드\n",
    "import matplotlib.pyplot as plt\n",
    "import seaborn as sns\n",
    "\n",
    "import matplotlib as mpl \n",
    "import matplotlib.pyplot as plt \n",
    "import matplotlib.font_manager as fm  \n",
    "\n",
    "!apt-get update -qq\n",
    "!apt-get install fonts-nanum* -qq\n",
    "\n",
    "path = '/usr/share/fonts/truetype/nanum/NanumBarunGothic.ttf' \n",
    "font_name = fm.FontProperties(fname=path, size=10).get_name()\n",
    "print(font_name)\n",
    "plt.rc('font', family=font_name)\n",
    "\n",
    "fm._rebuild()\n",
    "mpl.rcParams['axes.unicode_minus'] = False\n",
    "'''"
   ]
  },
  {
   "cell_type": "markdown",
   "metadata": {},
   "source": [
    "### 10-1. CCTV수가 가장 많은 구는 어디인가?"
   ]
  },
  {
   "cell_type": "code",
   "execution_count": null,
   "metadata": {},
   "outputs": [],
   "source": [
    "#'총계로' 막대 그래프 그리기 (kind='barh', grid=True, figsize=(10,10)\n",
    "\n",
    "\n",
    "plt.show()"
   ]
  },
  {
   "cell_type": "code",
   "execution_count": null,
   "metadata": {},
   "outputs": [],
   "source": [
    "# '총계'로 소팅하여 막대 그래프 그리기 (kind='barh', grid=True, figsize=(10,10))\n",
    "\n",
    "\n",
    "plt.show()"
   ]
  },
  {
   "cell_type": "markdown",
   "metadata": {},
   "source": [
    "### 10-2. CCTV의 비율(인구수에 대비 CCTV 수)이 가장 높은 구는 어디인가?"
   ]
  },
  {
   "cell_type": "code",
   "execution_count": null,
   "metadata": {},
   "outputs": [],
   "source": [
    "# 'CCTV비율' 열 추가\n",
    "data_result['CCTV비율'] = data_result['총계'] / data_result['인구수'] * 100\n",
    "data_result.head()"
   ]
  },
  {
   "cell_type": "code",
   "execution_count": null,
   "metadata": {},
   "outputs": [],
   "source": [
    "# 소팅한 CCTV비율 막대 그래프 (kind='barh', grid=True, figsize=(10,10))\n",
    "data_result['CCTV비율'].sort_values().plot(kind='barh', grid=True, figsize=(10,10))\n",
    "plt.show()"
   ]
  },
  {
   "cell_type": "markdown",
   "metadata": {},
   "source": [
    "### 10-3. 인구 수에 대한 CCTV수의 일반적인 분포를 살펴보자"
   ]
  },
  {
   "cell_type": "code",
   "execution_count": null,
   "metadata": {},
   "outputs": [],
   "source": [
    "plt.figure(figsize=(6,6))\n",
    "\n",
    "# 인구수에 대한 CCTV 수 산점도 그래프 (kind='scatter', x='인구수', y='총계', s=50)\n",
    "\n",
    "\n",
    "\n",
    "plt.xlabel('인구수')\n",
    "plt.ylabel('CCTV')\n",
    "plt.grid()\n",
    "plt.show()"
   ]
  },
  {
   "cell_type": "markdown",
   "metadata": {},
   "source": [
    "### 10-4. 일반적인 기준에서 인구 수에 비해 CCTV 수가 많은 구와 적은 구는 어디인가?"
   ]
  },
  {
   "cell_type": "code",
   "execution_count": null,
   "metadata": {},
   "outputs": [],
   "source": [
    "# 데이터에 대한 대표선을 나타내는, 기울기, 절편을 fp1에 저장\n",
    "fp1 = np.polyfit(data_result['인구수'], data_result['총계'], 1)\n",
    "fp1"
   ]
  },
  {
   "cell_type": "code",
   "execution_count": null,
   "metadata": {},
   "outputs": [],
   "source": [
    "# 직선의 y값 생성시켜주는 함수\n",
    "f1 = np.poly1d(fp1)\n",
    "# 지정한 범위 내에서 데이터의 개수만큼 같은 간격의 숫자 생성, x축 숫자 생성\n",
    "fx = np.linspace(100000, 700000, 100)"
   ]
  },
  {
   "cell_type": "code",
   "execution_count": null,
   "metadata": {},
   "outputs": [],
   "source": [
    "# 산점도 그래프 그리기\n",
    "plt.figure(figsize=(9,9))\n",
    "plt.scatter(data_result['인구수'],data_result['총계'], s=50)\n",
    "\n",
    "# 선그래프 그리기, 순서대로, x축 데이터, y축 데이터, lw는 선 굵기\n",
    "plt.plot(fx, f1(fx), '--', lw=2, color='g')\n",
    "\n",
    "#점 옆에 구이름 텍스트 넣기\n",
    "for n in range(25):\n",
    "    plt.text(data_result['인구수'][n]*1.02, data_result['총계'][n]*0.98, data_result.index[n], fontsize=10)\n",
    "    \n",
    "plt.xlabel('인구수')\n",
    "plt.ylabel('CCTV')\n",
    "plt.grid()\n",
    "plt.show()"
   ]
  },
  {
   "cell_type": "code",
   "execution_count": null,
   "metadata": {},
   "outputs": [],
   "source": []
  }
 ],
 "metadata": {
  "kernelspec": {
   "display_name": "Python 3 (ipykernel)",
   "language": "python",
   "name": "python3"
  },
  "language_info": {
   "codemirror_mode": {
    "name": "ipython",
    "version": 3
   },
   "file_extension": ".py",
   "mimetype": "text/x-python",
   "name": "python",
   "nbconvert_exporter": "python",
   "pygments_lexer": "ipython3",
   "version": "3.9.7"
  }
 },
 "nbformat": 4,
 "nbformat_minor": 2
}
